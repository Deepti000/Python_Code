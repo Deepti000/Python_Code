{
  "nbformat": 4,
  "nbformat_minor": 0,
  "metadata": {
    "colab": {
      "provenance": [],
      "authorship_tag": "ABX9TyMPOHBAoFcG2ageeQD8lSHr",
      "include_colab_link": true
    },
    "kernelspec": {
      "name": "python3",
      "display_name": "Python 3"
    },
    "language_info": {
      "name": "python"
    }
  },
  "cells": [
    {
      "cell_type": "markdown",
      "metadata": {
        "id": "view-in-github",
        "colab_type": "text"
      },
      "source": [
        "<a href=\"https://colab.research.google.com/github/Deepti000/Python_Code/blob/Flames_Game/Flames_Game.ipynb\" target=\"_parent\"><img src=\"https://colab.research.google.com/assets/colab-badge.svg\" alt=\"Open In Colab\"/></a>"
      ]
    },
    {
      "cell_type": "code",
      "execution_count": 24,
      "metadata": {
        "colab": {
          "base_uri": "https://localhost:8080/"
        },
        "id": "8gblpbOJVOv0",
        "outputId": "f1d80a21-9526-44e2-d9f1-aae4a82b68b4"
      },
      "outputs": [
        {
          "output_type": "stream",
          "name": "stdout",
          "text": [
            "Deepti\n",
            "Suman\n",
            "11\n",
            "E\n",
            "S\n",
            "A\n",
            "F\n",
            "L\n",
            "Marriage\n"
          ]
        }
      ],
      "source": [
        "name1 = input()\n",
        "name2 = input()\n",
        "\n",
        "for i in name1:\n",
        "  if i in name2:\n",
        "    name1 = name1.replace(i,'')\n",
        "    name2 = name2.replace(i,'')\n",
        "\n",
        "\n",
        "count = len(name1) + len(name2)\n",
        "string1 = \"FLAMES\"\n",
        "index = count\n",
        "pos = -1\n",
        "print(count)\n",
        "i = len(string1)\n",
        "while i > 0 :\n",
        "  if len(string1) == 1:\n",
        "    break\n",
        "  elif index == 0:\n",
        "    print(string1[pos])\n",
        "    string1 = string1[0:pos] + string1[pos+1:len(string1)]\n",
        "    index = count\n",
        "    pos -= 1\n",
        "  else:\n",
        "    index -= 1\n",
        "    pos += 1\n",
        "    pos = pos%len(string1)\n",
        "\n",
        "\n",
        "if \"F\" == string1:\n",
        "  print(\"Friendship\")\n",
        "elif \"L\" == string1:\n",
        "  print(\"Love\")\n",
        "elif \"A\" == string1:\n",
        "  print(\"Affection\")\n",
        "elif \"M\" == string1:\n",
        "  print(\"Marriage\")\n",
        "elif \"E\" == string1:\n",
        "  print(\"Enemy\")\n",
        "elif \"S\" == string1:\n",
        "  print(\"Sister\")"
      ]
    }
  ]
}